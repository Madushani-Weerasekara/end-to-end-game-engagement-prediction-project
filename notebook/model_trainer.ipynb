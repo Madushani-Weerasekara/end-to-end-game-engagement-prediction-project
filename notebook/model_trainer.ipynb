{
 "cells": [
  {
   "cell_type": "code",
   "execution_count": 1,
   "metadata": {},
   "outputs": [
    {
     "data": {
      "text/plain": [
       "'d:\\\\GitHub\\\\end-to-end-game-engagement-prediction'"
      ]
     },
     "execution_count": 1,
     "metadata": {},
     "output_type": "execute_result"
    }
   ],
   "source": [
    "import os  # Import the 'os' module, which allows interaction with the operating system\n",
    "os.chdir('../') # # Change the current working directory to the parent directory ('../' means one level up)\n",
    "os.getcwd() # Shows the new current directory path after moving up\n"
   ]
  },
  {
   "cell_type": "code",
   "execution_count": 2,
   "metadata": {},
   "outputs": [],
   "source": [
    "import numpy as np\n",
    "import pandas as pd\n",
    "from sklearn.preprocessing import LabelEncoder\n",
    "from sklearn.model_selection import train_test_split\n",
    "import torch\n",
    "from src.utils import save_object\n",
    "from src.components import EngageModel\n",
    "from src.components import DataPreprocessor"
   ]
  },
  {
   "cell_type": "code",
   "execution_count": 3,
   "metadata": {},
   "outputs": [],
   "source": [
    "train_csv_path = 'artifacts\\\\train.csv'\n",
    "test_csv_path = 'artifacts\\\\test.csv'\n",
    "target_column = 'EngagementLevel'\n",
    "\n",
    "preprocessor = DataPreprocessor(train_csv_path, test_csv_path, target_column)\n",
    "\n",
    "# Load and encode the data\n",
    "df_train, df_test = preprocessor.load_and_encode_data()\n",
    "x_train_tensor, y_train_tensor, x_test_tensor, y_test_tensor = preprocessor.to_tensors(df_train, df_test)\n"
   ]
  },
  {
   "cell_type": "code",
   "execution_count": 4,
   "metadata": {},
   "outputs": [
    {
     "name": "stdout",
     "output_type": "stream",
     "text": [
      "torch.Size([32027, 11]), torch.Size([32027]), torch.Size([8007, 11]), torch.Size([8007])\n"
     ]
    }
   ],
   "source": [
    "print(f\"{x_train_tensor.shape}, {y_train_tensor.shape}, {x_test_tensor.shape}, {y_test_tensor.shape}\")"
   ]
  },
  {
   "cell_type": "code",
   "execution_count": 5,
   "metadata": {},
   "outputs": [],
   "source": [
    "model = EngageModel(11, 3, path=\"artifacts\\\\testModel.pth\")"
   ]
  },
  {
   "cell_type": "code",
   "execution_count": 7,
   "metadata": {},
   "outputs": [
    {
     "name": "stdout",
     "output_type": "stream",
     "text": [
      "Epoch 1/100, Loss: 0.72305828332901, Training Accuracy: 0.8879\n",
      "Model saved at artifacts\\testModel.pth\n",
      "Epoch 2/100, Loss: 0.2978915870189667, Training Accuracy: 0.8929\n",
      "Model saved at artifacts\\testModel.pth\n",
      "Epoch 3/100, Loss: 0.5743470191955566, Training Accuracy: 0.8636\n",
      "Epoch 4/100, Loss: 0.3471522927284241, Training Accuracy: 0.8775\n",
      "Epoch 5/100, Loss: 0.1216185912489891, Training Accuracy: 0.8820\n",
      "Epoch 6/100, Loss: 0.6208880543708801, Training Accuracy: 0.8892\n",
      "Epoch 7/100, Loss: 0.23303021490573883, Training Accuracy: 0.8910\n",
      "Epoch 8/100, Loss: 0.5241862535476685, Training Accuracy: 0.8972\n",
      "Model saved at artifacts\\testModel.pth\n",
      "Epoch 9/100, Loss: 0.2525404393672943, Training Accuracy: 0.9049\n",
      "Model saved at artifacts\\testModel.pth\n",
      "Epoch 10/100, Loss: 0.41330504417419434, Training Accuracy: 0.9011\n",
      "Epoch 11/100, Loss: 0.2661421298980713, Training Accuracy: 0.8963\n",
      "Epoch 12/100, Loss: 0.2666759490966797, Training Accuracy: 0.9064\n",
      "Model saved at artifacts\\testModel.pth\n",
      "Epoch 13/100, Loss: 0.6239504814147949, Training Accuracy: 0.9045\n",
      "Epoch 14/100, Loss: 0.23445555567741394, Training Accuracy: 0.9086\n",
      "Model saved at artifacts\\testModel.pth\n",
      "Epoch 15/100, Loss: 0.1860092133283615, Training Accuracy: 0.8975\n",
      "Epoch 16/100, Loss: 0.5120347142219543, Training Accuracy: 0.9036\n",
      "Epoch 17/100, Loss: 0.6264033317565918, Training Accuracy: 0.9026\n",
      "Epoch 18/100, Loss: 0.31236040592193604, Training Accuracy: 0.8858\n",
      "Epoch 19/100, Loss: 0.16907016932964325, Training Accuracy: 0.9022\n",
      "Epoch 20/100, Loss: 0.22279320657253265, Training Accuracy: 0.8895\n",
      "Epoch 21/100, Loss: 0.148498997092247, Training Accuracy: 0.9048\n",
      "Epoch 22/100, Loss: 0.36167946457862854, Training Accuracy: 0.8875\n",
      "Epoch 23/100, Loss: 0.6576395630836487, Training Accuracy: 0.9056\n",
      "Epoch 24/100, Loss: 0.46317365765571594, Training Accuracy: 0.9081\n",
      "Epoch 25/100, Loss: 0.28887251019477844, Training Accuracy: 0.9082\n",
      "Epoch 26/100, Loss: 0.2910992503166199, Training Accuracy: 0.9170\n",
      "Model saved at artifacts\\testModel.pth\n",
      "Epoch 27/100, Loss: 0.30506470799446106, Training Accuracy: 0.9112\n",
      "Epoch 28/100, Loss: 0.6942347884178162, Training Accuracy: 0.8983\n",
      "Epoch 29/100, Loss: 0.37010082602500916, Training Accuracy: 0.9044\n",
      "Epoch 30/100, Loss: 0.5365478992462158, Training Accuracy: 0.9119\n",
      "Epoch 31/100, Loss: 0.4180716276168823, Training Accuracy: 0.9102\n",
      "Epoch 32/100, Loss: 0.6858898401260376, Training Accuracy: 0.9115\n",
      "Epoch 33/100, Loss: 0.24988128244876862, Training Accuracy: 0.9110\n",
      "Epoch 34/100, Loss: 0.21552826464176178, Training Accuracy: 0.9051\n",
      "Epoch 35/100, Loss: 0.41669967770576477, Training Accuracy: 0.9065\n",
      "Epoch 36/100, Loss: 0.2526504695415497, Training Accuracy: 0.9066\n",
      "Epoch 37/100, Loss: 0.23929737508296967, Training Accuracy: 0.9084\n",
      "Epoch 38/100, Loss: 0.23882818222045898, Training Accuracy: 0.9050\n",
      "Epoch 39/100, Loss: 0.5365695953369141, Training Accuracy: 0.8883\n",
      "Epoch 40/100, Loss: 0.6662460565567017, Training Accuracy: 0.9162\n",
      "Epoch 41/100, Loss: 0.2522256672382355, Training Accuracy: 0.9094\n",
      "Epoch 42/100, Loss: 0.3706406354904175, Training Accuracy: 0.9125\n",
      "Epoch 43/100, Loss: 0.19322603940963745, Training Accuracy: 0.8993\n",
      "Epoch 44/100, Loss: 0.21709813177585602, Training Accuracy: 0.9111\n",
      "Epoch 45/100, Loss: 0.3689141869544983, Training Accuracy: 0.9220\n",
      "Model saved at artifacts\\testModel.pth\n",
      "Epoch 46/100, Loss: 0.22553275525569916, Training Accuracy: 0.9047\n",
      "Epoch 47/100, Loss: 0.28169289231300354, Training Accuracy: 0.9072\n",
      "Epoch 48/100, Loss: 0.3539666533470154, Training Accuracy: 0.9157\n",
      "Epoch 49/100, Loss: 0.13947685062885284, Training Accuracy: 0.9173\n",
      "Epoch 50/100, Loss: 0.4614076316356659, Training Accuracy: 0.9088\n",
      "Epoch 51/100, Loss: 0.3343859016895294, Training Accuracy: 0.9160\n",
      "Epoch 52/100, Loss: 0.17232444882392883, Training Accuracy: 0.9052\n",
      "Epoch 53/100, Loss: 0.08788586407899857, Training Accuracy: 0.9193\n",
      "Epoch 54/100, Loss: 0.3243453800678253, Training Accuracy: 0.9205\n",
      "Epoch 55/100, Loss: 0.33821213245391846, Training Accuracy: 0.9193\n",
      "Epoch 56/100, Loss: 0.10533115267753601, Training Accuracy: 0.9081\n",
      "Epoch 57/100, Loss: 0.2642503082752228, Training Accuracy: 0.9082\n",
      "Epoch 58/100, Loss: 0.14128859341144562, Training Accuracy: 0.9110\n",
      "Epoch 59/100, Loss: 0.3671938180923462, Training Accuracy: 0.9192\n",
      "Epoch 60/100, Loss: 0.4997360110282898, Training Accuracy: 0.9058\n",
      "Epoch 61/100, Loss: 0.2599923014640808, Training Accuracy: 0.9158\n",
      "Epoch 62/100, Loss: 0.38205453753471375, Training Accuracy: 0.9154\n",
      "Epoch 63/100, Loss: 0.28185373544692993, Training Accuracy: 0.8987\n",
      "Epoch 64/100, Loss: 0.1440405696630478, Training Accuracy: 0.9193\n",
      "Epoch 65/100, Loss: 0.47952690720558167, Training Accuracy: 0.9157\n",
      "Epoch 66/100, Loss: 0.10312411189079285, Training Accuracy: 0.9201\n",
      "Epoch 67/100, Loss: 0.3515130579471588, Training Accuracy: 0.9029\n",
      "Epoch 68/100, Loss: 0.29815253615379333, Training Accuracy: 0.8879\n",
      "Epoch 69/100, Loss: 0.1559818983078003, Training Accuracy: 0.9099\n",
      "Epoch 70/100, Loss: 0.8341408967971802, Training Accuracy: 0.9023\n",
      "Epoch 71/100, Loss: 0.20539525151252747, Training Accuracy: 0.9194\n",
      "Epoch 72/100, Loss: 0.35581687092781067, Training Accuracy: 0.9214\n",
      "Epoch 73/100, Loss: 0.34321391582489014, Training Accuracy: 0.9198\n",
      "Epoch 74/100, Loss: 0.2024722844362259, Training Accuracy: 0.9097\n",
      "Epoch 75/100, Loss: 0.4902801513671875, Training Accuracy: 0.8799\n",
      "Epoch 76/100, Loss: 0.21648457646369934, Training Accuracy: 0.8979\n",
      "Epoch 77/100, Loss: 0.3092716634273529, Training Accuracy: 0.9223\n",
      "Model saved at artifacts\\testModel.pth\n",
      "Epoch 78/100, Loss: 0.3410344421863556, Training Accuracy: 0.9172\n",
      "Epoch 79/100, Loss: 0.6269764304161072, Training Accuracy: 0.9156\n",
      "Epoch 80/100, Loss: 0.15204662084579468, Training Accuracy: 0.9089\n",
      "Epoch 81/100, Loss: 0.5316065549850464, Training Accuracy: 0.9196\n",
      "Epoch 82/100, Loss: 0.2155824452638626, Training Accuracy: 0.9105\n",
      "Epoch 83/100, Loss: 0.28182610869407654, Training Accuracy: 0.9182\n",
      "Epoch 84/100, Loss: 0.30645668506622314, Training Accuracy: 0.9218\n",
      "Epoch 85/100, Loss: 0.21869218349456787, Training Accuracy: 0.9026\n",
      "Epoch 86/100, Loss: 0.6628916263580322, Training Accuracy: 0.9225\n",
      "Model saved at artifacts\\testModel.pth\n",
      "Epoch 87/100, Loss: 0.5638088583946228, Training Accuracy: 0.9058\n",
      "Epoch 88/100, Loss: 0.21028736233711243, Training Accuracy: 0.9114\n",
      "Epoch 89/100, Loss: 0.3539472222328186, Training Accuracy: 0.9129\n",
      "Epoch 90/100, Loss: 0.36198464035987854, Training Accuracy: 0.8624\n",
      "Epoch 91/100, Loss: 0.3177049160003662, Training Accuracy: 0.9082\n",
      "Epoch 92/100, Loss: 0.2502247393131256, Training Accuracy: 0.9168\n",
      "Epoch 93/100, Loss: 0.11509259790182114, Training Accuracy: 0.9202\n",
      "Epoch 94/100, Loss: 0.3543078899383545, Training Accuracy: 0.9225\n",
      "Model saved at artifacts\\testModel.pth\n",
      "Epoch 95/100, Loss: 0.06766475737094879, Training Accuracy: 0.9219\n",
      "Epoch 96/100, Loss: 0.09711858630180359, Training Accuracy: 0.9156\n",
      "Epoch 97/100, Loss: 0.31630972027778625, Training Accuracy: 0.9064\n",
      "Epoch 98/100, Loss: 0.42642730474472046, Training Accuracy: 0.9227\n",
      "Model saved at artifacts\\testModel.pth\n",
      "Epoch 99/100, Loss: 0.09721671789884567, Training Accuracy: 0.9072\n",
      "Epoch 100/100, Loss: 0.40024322271347046, Training Accuracy: 0.9272\n",
      "Model saved at artifacts\\testModel.pth\n"
     ]
    }
   ],
   "source": [
    "model.train(x_train_tensor, y_train_tensor, epochs=100, batch_size=32)"
   ]
  },
  {
   "cell_type": "code",
   "execution_count": null,
   "metadata": {},
   "outputs": [],
   "source": []
  }
 ],
 "metadata": {
  "kernelspec": {
   "display_name": "myenv",
   "language": "python",
   "name": "python3"
  },
  "language_info": {
   "codemirror_mode": {
    "name": "ipython",
    "version": 3
   },
   "file_extension": ".py",
   "mimetype": "text/x-python",
   "name": "python",
   "nbconvert_exporter": "python",
   "pygments_lexer": "ipython3",
   "version": "3.12.8"
  }
 },
 "nbformat": 4,
 "nbformat_minor": 2
}
