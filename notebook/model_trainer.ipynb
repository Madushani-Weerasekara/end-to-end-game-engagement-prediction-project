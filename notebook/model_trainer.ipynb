{
 "cells": [
  {
   "cell_type": "code",
   "execution_count": 1,
   "metadata": {},
   "outputs": [
    {
     "data": {
      "text/plain": [
       "'d:\\\\GitHub\\\\end-to-end-game-engagement-prediction'"
      ]
     },
     "execution_count": 1,
     "metadata": {},
     "output_type": "execute_result"
    }
   ],
   "source": [
    "import os  # Import the 'os' module, which allows interaction with the operating system\n",
    "os.chdir('../') # # Change the current working directory to the parent directory ('../' means one level up)\n",
    "os.getcwd() # Shows the new current directory path after moving up\n"
   ]
  },
  {
   "cell_type": "code",
   "execution_count": 2,
   "metadata": {},
   "outputs": [],
   "source": [
    "import numpy as np\n",
    "import pandas as pd\n",
    "from sklearn.preprocessing import LabelEncoder\n",
    "from sklearn.model_selection import train_test_split\n",
    "import torch\n",
    "from src.utils import save_object\n",
    "from src.components import EngageModel\n",
    "from src.components import DataPreprocessor"
   ]
  },
  {
   "cell_type": "code",
   "execution_count": 3,
   "metadata": {},
   "outputs": [],
   "source": [
    "train_csv_path = 'artifacts\\\\train.csv'\n",
    "test_csv_path = 'artifacts\\\\test.csv'\n",
    "target_column = 'EngagementLevel'\n",
    "\n",
    "preprocessor = DataPreprocessor(train_csv_path, test_csv_path, target_column)\n",
    "\n",
    "# Load and encode the data\n",
    "df_train, df_test = preprocessor.load_and_encode_data()\n",
    "x_train_tensor, y_train_tensor, x_test_tensor, y_test_tensor = preprocessor.to_tensors(df_train, df_test)\n"
   ]
  }
 ],
 "metadata": {
  "kernelspec": {
   "display_name": "myenv",
   "language": "python",
   "name": "python3"
  },
  "language_info": {
   "codemirror_mode": {
    "name": "ipython",
    "version": 3
   },
   "file_extension": ".py",
   "mimetype": "text/x-python",
   "name": "python",
   "nbconvert_exporter": "python",
   "pygments_lexer": "ipython3",
   "version": "3.12.8"
  }
 },
 "nbformat": 4,
 "nbformat_minor": 2
}
